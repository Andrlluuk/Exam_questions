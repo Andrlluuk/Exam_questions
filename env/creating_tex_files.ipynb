{
 "cells": [
  {
   "cell_type": "code",
   "execution_count": 1,
   "metadata": {},
   "outputs": [],
   "source": [
    "import os  \n",
    "from tqdm import tqdm\n",
    "\n",
    "from random import shuffle"
   ]
  },
  {
   "cell_type": "code",
   "execution_count": 3,
   "metadata": {
    "collapsed": true,
    "jupyter": {
     "outputs_hidden": true
    },
    "tags": []
   },
   "outputs": [
    {
     "data": {
      "text/plain": [
       "['\\n',\n",
       " '\\\\documentclass[10pt]{article}\\n',\n",
       " '\\\\usepackage[utf8]{inputenc}\\n',\n",
       " '\\\\usepackage[english,russian]{babel}\\n',\n",
       " '\\\\usepackage{amsmath}\\n',\n",
       " '\\\\usepackage{amssymb}\\n',\n",
       " '\\\\usepackage{amsfonts}\\n',\n",
       " '\\\\usepackage{chngcntr,color}\\n',\n",
       " '%\\\\usepackage[hyper]{amsbib}\\n',\n",
       " '\\\\usepackage{ulem}\\n',\n",
       " '\\\\usepackage[hidelinks]{hyperref}\\n',\n",
       " '\\\\usepackage[mathscr]{euscript}\\n',\n",
       " '\\\\usepackage{enumitem}\\n',\n",
       " '\\\\usepackage{cite}\\n',\n",
       " '\\\\usepackage{bbm} % We need this for pretty Indicator \\\\mathbbm{1}.\\n',\n",
       " '\\\\usepackage[left=25mm, top=20mm, right=10mm, bottom=10mm, nohead]{geometry}\\n',\n",
       " '    \\\\usepackage{graphicx} % для картинок\\n',\n",
       " '\\\\pagestyle{empty} \\n',\n",
       " '\\n',\n",
       " '%    \\\\raisebox{-1pt}[0pt][0pt]{\\\\includegraphics[width=0.02\\\\linewidth]{3.png}}\\n',\n",
       " '\\\\begin{document}\\n',\n",
       " '\\n',\n",
       " '\\\\thispagestyle{empty}\\n',\n",
       " '\\\\topskip=0pt\\n',\n",
       " '\\\\vspace*{\\\\fill}\\n',\n",
       " '\\n',\n",
       " '\\n',\n",
       " '\\n',\n",
       " '\\n',\n",
       " '\\\\vspace*{\\\\fill}\\n',\n",
       " '\\\\end{document}']"
      ]
     },
     "execution_count": 3,
     "metadata": {},
     "output_type": "execute_result"
    }
   ],
   "source": [
    "with open('main.tex', encoding='utf8') as f:\n",
    "    all_questions = f.readlines()\n",
    "    \n",
    "with open('question_blanck.tex', encoding='utf8') as f:\n",
    "    question_3_1 = f.readlines()\n",
    "        \n",
    "blanck = question_3_1[:25] + question_3_1[33:]    \n",
    "blanck"
   ]
  },
  {
   "cell_type": "code",
   "execution_count": 4,
   "metadata": {},
   "outputs": [],
   "source": [
    "Number_questions = 24 # количество билетов\n",
    "\n",
    "Random_permute = list(range(1,Number_questions + 1)) \n",
    "shuffle(Random_permute) #[1, 19, 6, 2, 9, 10, 14, 8, 16, 23, 21, 3, 7, 12, 24, 5, 4, 22, 18, 15, 13, 17, 11, 20]"
   ]
  },
  {
   "cell_type": "code",
   "execution_count": 7,
   "metadata": {},
   "outputs": [],
   "source": [
    "# в обычной последовательности\n",
    "for k,line in zip(range(len(all_questions)),  all_questions):\n",
    "    for i in range(Number_questions+1):   # цикл по всем билетам \n",
    "        if line == '\\\\begin{center} {\\Large Билет №' + str(i) + ' (20 баллов)} \\end{center}\\n':\n",
    "\n",
    "            blanck = question_3_1[:25] + all_questions[k:k+6]  + question_3_1[33:]\n",
    "\n",
    "            with open('question_3_' + str(i)  +  '.tex', 'w', encoding='utf8') as filehandle:\n",
    "                for line in blanck:\n",
    "                    filehandle.write('%s\\n' % line)\n",
    "                    \n",
    "                    \n",
    "        if line == '\\\\begin{center} {\\Large Билет №' + str(i) + ' (30 баллов)} \\end{center}\\n':\n",
    "\n",
    "            blanck = question_3_1[:25] + all_questions[k:k+4]  + question_3_1[33:]\n",
    "\n",
    "            with open('question_4_' + str(i)  +  '.tex', 'w', encoding='utf8') as filehandle:\n",
    "                for line in blanck:\n",
    "                    filehandle.write('%s\\n' % line)\n",
    "                \n",
    "                \n",
    "        if line == '\\\\begin{center} {\\Large Билет №' + str(i) + ' (40 баллов)} \\end{center}\\n':\n",
    "\n",
    "            blanck = question_3_1[:25] + all_questions[k:k+2]  + question_3_1[33:]\n",
    "\n",
    "            with open('question_5_' + str(i)  +  '.tex', 'w', encoding='utf8') as filehandle:\n",
    "                for line in blanck:\n",
    "                    filehandle.write('%s\\n' % line)        \n",
    "\n",
    "                    \n",
    "                    \n",
    "                    \n",
    "                    \n",
    "                    "
   ]
  },
  {
   "cell_type": "code",
   "execution_count": 35,
   "metadata": {},
   "outputs": [],
   "source": [
    "# в случайной последовательности\n",
    "for k,line in zip(range(len(all_questions)),  all_questions):\n",
    "    for i in range(Number_questions+1):   # цикл по всем билетам \n",
    "        if line == '\\\\begin{center} {\\Large Билет №' + str(i) + ' (20 баллов)} \\end{center}\\n':\n",
    "            \n",
    "            new = all_questions[k+1:k+6]\n",
    "            shuffle(new)\n",
    "            new = ['\\\\begin{center} {\\Large Билет №' + str(Random_permute[i-1]) + ' (20 баллов)} \\end{center}\\n'] + new\n",
    "            \n",
    "            blanck = question_3_1[:25] + new  + question_3_1[33:]\n",
    "\n",
    "            with open('question_3_' + str(Random_permute[i-1])  +  '.tex', 'w', encoding='utf8') as filehandle:\n",
    "                for line in blanck:\n",
    "                    filehandle.write('%s\\n' % line)\n",
    "                    \n",
    "                    \n",
    "        if line == '\\\\begin{center} {\\Large Билет №' + str(i) + ' (30 баллов)} \\end{center}\\n':\n",
    "\n",
    "            new = all_questions[k+1:k+4]\n",
    "            shuffle(new)\n",
    "            new = ['\\\\begin{center} {\\Large Билет №' + str(Random_permute[i-1]) + ' (30 баллов)} \\end{center}\\n'] + new\n",
    "            \n",
    "            blanck = question_3_1[:25] + new  + question_3_1[33:]\n",
    "\n",
    "            with open('question_4_' + str(Random_permute[i-1])  +  '.tex', 'w', encoding='utf8') as filehandle:\n",
    "                for line in blanck:\n",
    "                    filehandle.write('%s\\n' % line)\n",
    "                \n",
    "                \n",
    "        if line == '\\\\begin{center} {\\Large Билет №' + str(i) + ' (40 баллов)} \\end{center}\\n':\n",
    "\n",
    "            new = all_questions[k+1:k+2]\n",
    "            shuffle(new)\n",
    "            new = ['\\\\begin{center} {\\Large Билет №' + str(Random_permute[i-1]) + ' (40 баллов)} \\end{center}\\n'] + new\n",
    "            \n",
    "            blanck = question_3_1[:25] + new  + question_3_1[33:]\n",
    "\n",
    "            with open('question_5_' + str(Random_permute[i-1])  +  '.tex', 'w', encoding='utf8') as filehandle:\n",
    "                for line in blanck:\n",
    "                    filehandle.write('%s\\n' % line) \n",
    "                    \n",
    "                    \n",
    "                   \n",
    "#Изменяем фаил с номерами вопросов на экзамен. \n",
    "\n",
    "all_questions_copy =  all_questions.copy()\n",
    "\n",
    "for k,line in zip(range(len(all_questions)),  all_questions):\n",
    "    for i in range(Number_questions+1):   # цикл по всем билетам \n",
    "        if line == '\\\\begin{center} {\\Large Билет №' + str(i) + ' (20 баллов)} \\end{center}\\n':\n",
    "            \n",
    "            all_questions_copy[k] = '\\\\begin{center} {\\Large Билет №' + str(Random_permute[i-1]) + ' (20 баллов)} \\end{center}\\n'                 \n",
    "                    \n",
    "        if line == '\\\\begin{center} {\\Large Билет №' + str(i) + ' (30 баллов)} \\end{center}\\n':\n",
    "\n",
    "            all_questions_copy[k] = '\\\\begin{center} {\\Large Билет №' + str(Random_permute[i-1]) + ' (30 баллов)} \\end{center}\\n'    \n",
    "                \n",
    "                \n",
    "        if line == '\\\\begin{center} {\\Large Билет №' + str(i) + ' (40 баллов)} \\end{center}\\n':\n",
    "\n",
    "            all_questions_copy[k] = '\\\\begin{center} {\\Large Билет №' + str(Random_permute[i-1]) + ' (40 баллов)} \\end{center}\\n'        \n",
    "            \n",
    "            \n",
    "with open('Mixed_questions_exam.tex', 'w', encoding='utf8') as filehandle:\n",
    "    for line in all_questions_copy:\n",
    "        filehandle.write('%s\\n' % line)             \n",
    "            \n",
    "            "
   ]
  },
  {
   "cell_type": "code",
   "execution_count": 8,
   "metadata": {},
   "outputs": [
    {
     "name": "stderr",
     "output_type": "stream",
     "text": [
      "sh: pdflatex: command not found\n"
     ]
    },
    {
     "data": {
      "text/plain": [
       "32512"
      ]
     },
     "execution_count": 8,
     "metadata": {},
     "output_type": "execute_result"
    }
   ],
   "source": [
    "os.system('pdflatex question_3_1.tex')"
   ]
  },
  {
   "cell_type": "code",
   "execution_count": 13,
   "metadata": {},
   "outputs": [],
   "source": [
    "for i in range(Number_questions+1):\n",
    "    for j in [3,4,5]:\n",
    "        os.system('pdflatex question_'+ str(j) + '_' + str(i) + '.tex')"
   ]
  }
 ],
 "metadata": {
  "colab": {
   "name": "Bot.ipynb",
   "provenance": []
  },
  "kernelspec": {
   "display_name": "Python 3 (ipykernel)",
   "language": "python",
   "name": "python3"
  },
  "language_info": {
   "codemirror_mode": {
    "name": "ipython",
    "version": 3
   },
   "file_extension": ".py",
   "mimetype": "text/x-python",
   "name": "python",
   "nbconvert_exporter": "python",
   "pygments_lexer": "ipython3",
   "version": "3.9.7"
  }
 },
 "nbformat": 4,
 "nbformat_minor": 4
}
