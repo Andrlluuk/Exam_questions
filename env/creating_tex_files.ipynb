{
 "cells": [
  {
   "cell_type": "code",
   "execution_count": 2,
   "metadata": {},
   "outputs": [],
   "source": [
    "import os  \n",
    "from tqdm import tqdm\n",
    "\n",
    "from random import shuffle"
   ]
  },
  {
   "cell_type": "code",
   "execution_count": 23,
   "metadata": {},
   "outputs": [],
   "source": [
    "with open('main.tex', encoding='utf8') as f:\n",
    "    all_questions = f.readlines()\n",
    "    \n",
    "with open('question_blanck.tex', encoding='utf8') as f:\n",
    "    question_3_1 = f.readlines()\n",
    "        \n",
    "blanck = question_3_1[:25] + question_3_1[33:]    "
   ]
  },
  {
   "cell_type": "code",
   "execution_count": 24,
   "metadata": {},
   "outputs": [],
   "source": [
    "Number_questions = 24 # количество билетов\n",
    "\n",
    "Random_permute = list(range(1,Number_questions + 1)) \n",
    "shuffle(Random_permute) #[1, 19, 6, 2, 9, 10, 14, 8, 16, 23, 21, 3, 7, 12, 24, 5, 4, 22, 18, 15, 13, 17, 11, 20]"
   ]
  },
  {
   "cell_type": "code",
   "execution_count": 11,
   "metadata": {},
   "outputs": [],
   "source": [
    "# в обычной последовательности\n",
    "for k,line in zip(range(len(all_questions)),  all_questions):\n",
    "    for i in range(Number_questions+1):   # цикл по всем билетам \n",
    "        if line == '\\\\begin{center} {\\Large Билет №' + str(i) + ' (20 баллов)} \\end{center}\\n':\n",
    "\n",
    "            blanck = question_3_1[:25] + all_questions[k:k+6]  + question_3_1[33:]\n",
    "\n",
    "            with open('question_3_' + str(i)  +  '.tex', 'w', encoding='utf8') as filehandle:\n",
    "                for line in blanck:\n",
    "                    filehandle.write('%s\\n' % line)\n",
    "                    \n",
    "                    \n",
    "        if line == '\\\\begin{center} {\\Large Билет №' + str(i) + ' (30 баллов)} \\end{center}\\n':\n",
    "\n",
    "            blanck = question_3_1[:25] + all_questions[k:k+4]  + question_3_1[33:]\n",
    "\n",
    "            with open('question_4_' + str(i)  +  '.tex', 'w', encoding='utf8') as filehandle:\n",
    "                for line in blanck:\n",
    "                    filehandle.write('%s\\n' % line)\n",
    "                \n",
    "                \n",
    "        if line == '\\\\begin{center} {\\Large Билет №' + str(i) + ' (40 баллов)} \\end{center}\\n':\n",
    "\n",
    "            blanck = question_3_1[:25] + all_questions[k:k+2]  + question_3_1[33:]\n",
    "\n",
    "            with open('question_5_' + str(i)  +  '.tex', 'w', encoding='utf8') as filehandle:\n",
    "                for line in blanck:\n",
    "                    filehandle.write('%s\\n' % line)        \n",
    "\n",
    "                    \n",
    "                    \n",
    "                    \n",
    "                    \n",
    "                    "
   ]
  },
  {
   "cell_type": "code",
   "execution_count": 35,
   "metadata": {},
   "outputs": [],
   "source": [
    "# в случайной последовательности\n",
    "for k,line in zip(range(len(all_questions)),  all_questions):\n",
    "    for i in range(Number_questions+1):   # цикл по всем билетам \n",
    "        if line == '\\\\begin{center} {\\Large Билет №' + str(i) + ' (20 баллов)} \\end{center}\\n':\n",
    "            \n",
    "            new = all_questions[k+1:k+6]\n",
    "            shuffle(new)\n",
    "            new = ['\\\\begin{center} {\\Large Билет №' + str(Random_permute[i-1]) + ' (20 баллов)} \\end{center}\\n'] + new\n",
    "            \n",
    "            blanck = question_3_1[:25] + new  + question_3_1[33:]\n",
    "\n",
    "            with open('question_3_' + str(Random_permute[i-1])  +  '.tex', 'w', encoding='utf8') as filehandle:\n",
    "                for line in blanck:\n",
    "                    filehandle.write('%s\\n' % line)\n",
    "                    \n",
    "                    \n",
    "        if line == '\\\\begin{center} {\\Large Билет №' + str(i) + ' (30 баллов)} \\end{center}\\n':\n",
    "\n",
    "            new = all_questions[k+1:k+4]\n",
    "            shuffle(new)\n",
    "            new = ['\\\\begin{center} {\\Large Билет №' + str(Random_permute[i-1]) + ' (30 баллов)} \\end{center}\\n'] + new\n",
    "            \n",
    "            blanck = question_3_1[:25] + new  + question_3_1[33:]\n",
    "\n",
    "            with open('question_4_' + str(Random_permute[i-1])  +  '.tex', 'w', encoding='utf8') as filehandle:\n",
    "                for line in blanck:\n",
    "                    filehandle.write('%s\\n' % line)\n",
    "                \n",
    "                \n",
    "        if line == '\\\\begin{center} {\\Large Билет №' + str(i) + ' (40 баллов)} \\end{center}\\n':\n",
    "\n",
    "            new = all_questions[k+1:k+2]\n",
    "            shuffle(new)\n",
    "            new = ['\\\\begin{center} {\\Large Билет №' + str(Random_permute[i-1]) + ' (40 баллов)} \\end{center}\\n'] + new\n",
    "            \n",
    "            blanck = question_3_1[:25] + new  + question_3_1[33:]\n",
    "\n",
    "            with open('question_5_' + str(Random_permute[i-1])  +  '.tex', 'w', encoding='utf8') as filehandle:\n",
    "                for line in blanck:\n",
    "                    filehandle.write('%s\\n' % line) \n",
    "                    \n",
    "                    \n",
    "                   \n",
    "#Изменяем фаил с номерами вопросов на экзамен. \n",
    "\n",
    "all_questions_copy =  all_questions.copy()\n",
    "\n",
    "for k,line in zip(range(len(all_questions)),  all_questions):\n",
    "    for i in range(Number_questions+1):   # цикл по всем билетам \n",
    "        if line == '\\\\begin{center} {\\Large Билет №' + str(i) + ' (20 баллов)} \\end{center}\\n':\n",
    "            \n",
    "            all_questions_copy[k] = '\\\\begin{center} {\\Large Билет №' + str(Random_permute[i-1]) + ' (20 баллов)} \\end{center}\\n'                 \n",
    "                    \n",
    "        if line == '\\\\begin{center} {\\Large Билет №' + str(i) + ' (30 баллов)} \\end{center}\\n':\n",
    "\n",
    "            all_questions_copy[k] = '\\\\begin{center} {\\Large Билет №' + str(Random_permute[i-1]) + ' (30 баллов)} \\end{center}\\n'    \n",
    "                \n",
    "                \n",
    "        if line == '\\\\begin{center} {\\Large Билет №' + str(i) + ' (40 баллов)} \\end{center}\\n':\n",
    "\n",
    "            all_questions_copy[k] = '\\\\begin{center} {\\Large Билет №' + str(Random_permute[i-1]) + ' (40 баллов)} \\end{center}\\n'        \n",
    "            \n",
    "            \n",
    "with open('Mixed_questions_exam.tex', 'w', encoding='utf8') as filehandle:\n",
    "    for line in all_questions_copy:\n",
    "        filehandle.write('%s\\n' % line)             \n",
    "            \n",
    "            "
   ]
  },
  {
   "cell_type": "code",
   "execution_count": 5,
   "metadata": {},
   "outputs": [
    {
     "data": {
      "text/plain": [
       "1"
      ]
     },
     "execution_count": 5,
     "metadata": {},
     "output_type": "execute_result"
    }
   ],
   "source": [
    "os.system('pdflatex question_3_1.tex')"
   ]
  },
  {
   "cell_type": "code",
   "execution_count": 13,
   "metadata": {},
   "outputs": [],
   "source": [
    "for i in range(Number_questions+1):\n",
    "    for j in [3,4,5]:\n",
    "        os.system('pdflatex question_'+ str(j) + '_' + str(i) + '.tex')"
   ]
  }
 ],
 "metadata": {
  "colab": {
   "name": "Bot.ipynb",
   "provenance": []
  },
  "kernelspec": {
   "display_name": "Python 3",
   "language": "python",
   "name": "python3"
  },
  "language_info": {
   "codemirror_mode": {
    "name": "ipython",
    "version": 3
   },
   "file_extension": ".py",
   "mimetype": "text/x-python",
   "name": "python",
   "nbconvert_exporter": "python",
   "pygments_lexer": "ipython3",
   "version": "3.7.4"
  }
 },
 "nbformat": 4,
 "nbformat_minor": 1
}
