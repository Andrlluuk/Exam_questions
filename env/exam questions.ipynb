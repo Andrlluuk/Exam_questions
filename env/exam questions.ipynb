{
 "cells": [
  {
   "cell_type": "code",
   "execution_count": 18,
   "metadata": {},
   "outputs": [
    {
     "name": "stderr",
     "output_type": "stream",
     "text": [
      "sh: pdflatex: command not found\n"
     ]
    },
    {
     "data": {
      "text/plain": [
       "32512"
      ]
     },
     "execution_count": 18,
     "metadata": {},
     "output_type": "execute_result"
    }
   ],
   "source": [
    "import os  \n",
    "os.system(\"pdflatex main.tex\")"
   ]
  },
  {
   "cell_type": "code",
   "execution_count": 3,
   "metadata": {},
   "outputs": [
    {
     "name": "stdout",
     "output_type": "stream",
     "text": [
      "zsh:1: command not found: brew\n"
     ]
    }
   ],
   "source": [
    "!brew install basictex"
   ]
  },
  {
   "cell_type": "code",
   "execution_count": 7,
   "metadata": {},
   "outputs": [
    {
     "name": "stderr",
     "output_type": "stream",
     "text": [
      "sh: /opt/anaconda3/bin:/opt/anaconda3/condabin:/usr/bin:/bin:/usr/sbin:/sbin: No such file or directory\n"
     ]
    },
    {
     "data": {
      "text/plain": [
       "32512"
      ]
     },
     "execution_count": 7,
     "metadata": {},
     "output_type": "execute_result"
    }
   ],
   "source": [
    "os.system(\"$PATH\")"
   ]
  },
  {
   "cell_type": "code",
   "execution_count": 4,
   "metadata": {},
   "outputs": [
    {
     "name": "stderr",
     "output_type": "stream",
     "text": [
      "sh: pdflatex: command not found\n"
     ]
    },
    {
     "data": {
      "text/plain": [
       "32512"
      ]
     },
     "execution_count": 4,
     "metadata": {},
     "output_type": "execute_result"
    }
   ],
   "source": [
    "os.system(\"pdflatex tickets.tex\")"
   ]
  },
  {
   "cell_type": "code",
   "execution_count": null,
   "metadata": {},
   "outputs": [],
   "source": [
    "import random\n",
    "import os\n",
    "def create_pdf(folder, name, params):\n",
    "    title = []\n",
    "    with open(folder + '/' + name, encoding='UTF-8') as f:\n",
    "        all_questions = f.readlines()\n",
    "        \n",
    "    idx = 0\n",
    "    while 'begin{document}' not in all_questions[idx]:\n",
    "        title.append(all_questions[idx])\n",
    "        idx += 1\n",
    "        \n",
    "       \n",
    "    \n",
    "    questions_pool = {3:[], 4:[], 5:[]}\n",
    "    for line in all_questions:\n",
    "        if params['label_3'] in line:\n",
    "            questions_pool[3].append(line)\n",
    "        elif params['label_4'] in line:\n",
    "            questions_pool[4].append(line)\n",
    "        elif params['label_5'] in line:\n",
    "            questions_pool[5].append(line)\n",
    "    \n",
    "    with open(folder + '/' + 'tickets.tex', 'w', encoding='UTF-8') as f:\n",
    "        for line in title:\n",
    "            f.write('%s\\n' % line)\n",
    "        f.write('\\\\begin{document} \\n')  \n",
    "        for ticket in range(params['number_of_tickets']):\n",
    "            f.write('\\\\begin{center} {\\\\Large Билет №%s} \\\\end{center} \\n' % str(ticket + 1))\n",
    "            questions = []\n",
    "            points = [3, 4, 5]\n",
    "            for point in points:\n",
    "                for question in range(params[point]):\n",
    "                    choice = random.choice(questions_pool[point])\n",
    "                    while choice in questions:\n",
    "                        choice = random.choice(questions_pool[point])\n",
    "                    questions.append(random.choice(questions_pool[point]))\n",
    "            f.write('\\n')\n",
    "            for line in questions:\n",
    "                f.write('%s\\n' % line)\n",
    "                \n",
    "        f.write('\\\\end{document}')\n",
    "    os.system(\"pdflatex tickets.tex\")\n",
    "    \n",
    "create_pdf(os.getcwd(), 'main.tex', \n",
    "           {'label_3': '3.png', 'label_4':'4.png', 'label_5':'5.png', 'number_of_tickets': 24,\n",
    "           3: 5, 4: 3, 5: 2})"
   ]
  }
 ],
 "metadata": {
  "kernelspec": {
   "display_name": "Python 3 (ipykernel)",
   "language": "python",
   "name": "python3"
  },
  "language_info": {
   "codemirror_mode": {
    "name": "ipython",
    "version": 3
   },
   "file_extension": ".py",
   "mimetype": "text/x-python",
   "name": "python",
   "nbconvert_exporter": "python",
   "pygments_lexer": "ipython3",
   "version": "3.9.7"
  }
 },
 "nbformat": 4,
 "nbformat_minor": 4
}
